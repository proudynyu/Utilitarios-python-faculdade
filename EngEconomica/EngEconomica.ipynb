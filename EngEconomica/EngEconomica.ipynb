{
  "nbformat": 4,
  "nbformat_minor": 0,
  "metadata": {
    "colab": {
      "name": "EngEconomica.ipynb",
      "provenance": []
    },
    "kernelspec": {
      "name": "python3",
      "display_name": "Python 3"
    }
  },
  "cells": [
    {
      "cell_type": "markdown",
      "metadata": {
        "id": "l6NqSYeaJIaM"
      },
      "source": [
        "# Taxa"
      ]
    },
    {
      "cell_type": "markdown",
      "metadata": {
        "id": "NlqHlETLJXDJ"
      },
      "source": [
        "## Juros Composto\n"
      ]
    },
    {
      "cell_type": "markdown",
      "metadata": {
        "id": "ih0UvPx_KPlC"
      },
      "source": [
        "### Taxa maior para menor"
      ]
    },
    {
      "cell_type": "code",
      "metadata": {
        "id": "MDV_rGCMJWMd"
      },
      "source": [
        "def getMinorTax(i, n):\n",
        "  i = i/100\n",
        "  result = pow((1+i), 1/n) - 1\n",
        "  return result * 100"
      ],
      "execution_count": null,
      "outputs": []
    },
    {
      "cell_type": "markdown",
      "metadata": {
        "id": "m9K7zT1cJ9Wt"
      },
      "source": [
        "### Taxa menor para maior"
      ]
    },
    {
      "cell_type": "code",
      "metadata": {
        "id": "-W5OmnY6J_zT"
      },
      "source": [
        "def getMajorTax(i, n):\n",
        "  i = i/100\n",
        "  result = pow((1+i), n) - 1\n",
        "  return result * 100\n"
      ],
      "execution_count": null,
      "outputs": []
    },
    {
      "cell_type": "markdown",
      "metadata": {
        "id": "aARuNQqyDx7n"
      },
      "source": [
        "# Juros\n"
      ]
    },
    {
      "cell_type": "markdown",
      "metadata": {
        "id": "pc6gvjfID22d"
      },
      "source": [
        "## Juros compostos"
      ]
    },
    {
      "cell_type": "code",
      "metadata": {
        "id": "f9864MGWD13Z"
      },
      "source": [
        "def getJurosComposto(vp, i, n):\n",
        "  i = i/100\n",
        "  return vp * pow((1+i), n)"
      ],
      "execution_count": null,
      "outputs": []
    },
    {
      "cell_type": "markdown",
      "metadata": {
        "id": "e2xBFoei9OM4"
      },
      "source": [
        "# Tabela Price\n",
        "## Calculadora de prestação\n",
        "\n",
        "**indice**:  \n",
        "  *i* = juros (**%**)  \n",
        "  *prest* = número de prestações em meses (**number**)  \n",
        "  *value* = valor presente  (**float**)  \n",
        "  *hasIn* = possui entrada (**True** ou **False**)\n"
      ]
    },
    {
      "cell_type": "code",
      "metadata": {
        "id": "a-G-Dlhr7lhQ"
      },
      "source": [
        "# Valor presente\n",
        "def getPrice(i, prest, value, hasIn=False):\n",
        "  i = i/100\n",
        "  if(hasIn):\n",
        "      num = i * pow((1+i), (prest-1))\n",
        "      den = pow((1+i), prest) - 1\n",
        "      return value * (num/den)\n",
        "\n",
        "  num = i * pow((1+i), prest)\n",
        "  den = pow((1+i), prest) - 1\n",
        "  return value * (num/den)\n",
        "\n",
        "#Valor Futuro\n",
        "def getPriceFuture(i, prest, value, isMensal=False):\n",
        "  i = i/100\n",
        "  if (isMensal):\n",
        "    num = value * (pow((1+i), prest) - 1)\n",
        "    den = i\n",
        "    return num/den\n",
        "  \n",
        "  num = value * i\n",
        "  den = pow((1+i), prest) - 1\n",
        "  return num/den"
      ],
      "execution_count": null,
      "outputs": []
    },
    {
      "cell_type": "markdown",
      "metadata": {
        "id": "Z-oHgEMIB3oO"
      },
      "source": [
        "## Exemplos Video Aula"
      ]
    },
    {
      "cell_type": "code",
      "metadata": {
        "id": "sPhIxtVV8nUQ",
        "outputId": "cb64be96-0450-43a7-8064-8e83e8c78066",
        "colab": {
          "base_uri": "https://localhost:8080/",
          "height": 269
        }
      },
      "source": [
        "# Exemplo 1 - video da aula\n",
        "## Geladeira R$ 800,00\n",
        "## Prestação 3x\n",
        "## Juros 5%\n",
        "## Sem entrada (False)\n",
        "\n",
        "gel_ex_1 = getPrice(5, 3, 800)\n",
        "print(f'Prestação ex_1: R$ {gel_ex_1:.2f}')\n",
        "print('\\n')\n",
        "\n",
        "# Exemplo 2 - video aula\n",
        "## Mensal = 500\n",
        "## Prest = 2 anos = 24 meses\n",
        "## Juros = 0,8% a.m.\n",
        "\n",
        "gel_ex_2 = getPriceFuture(0.8, 24, 500, True)\n",
        "print(f'Prestação ex_2: R$ {gel_ex_2:.2f}')\n",
        "print('\\n')\n",
        "\n",
        "#Exemplo 3\n",
        "ex_3 = getPrice(5, 4, 10000)\n",
        "print(f'Prestacao ex_3: R$ {ex_3:.2f}')\n",
        "print('\\n')\n",
        "\n",
        "# Exemplo 4\n",
        "ex_4a = getPrice(2, 24, 35000)\n",
        "ex_4b = getPrice(2, 24, 35000, True)\n",
        "print(f'Prest. Ex_4 a): R$ {ex_4a:.2f}')\n",
        "print(f'Prest. Ex_4 b): R$ {ex_4b:.2f}')\n",
        "print('\\n')\n",
        "\n",
        "valorExemplo_4c = getJurosComposto(35000, 3, 5)\n",
        "print(f'Valor Present: R$ {valorExemplo_4c:.2f}')\n",
        "ex_4c = getPrice(2, 24, valorExemplo_4c, True)\n",
        "print(f'Prest. Ex_4 c): R$ {ex_4c:.2f}')"
      ],
      "execution_count": null,
      "outputs": [
        {
          "output_type": "stream",
          "text": [
            "Prestação ex_1: R$ 293.77\n",
            "\n",
            "\n",
            "Prestação ex_2: R$ 13171.58\n",
            "\n",
            "\n",
            "Prestacao ex_3: R$ 2820.12\n",
            "\n",
            "\n",
            "Prest. Ex_4 a): R$ 1850.49\n",
            "Prest. Ex_4 b): R$ 1814.20\n",
            "\n",
            "\n",
            "Valor Present: R$ 40574.59\n",
            "Prest. Ex_4 c): R$ 2103.16\n"
          ],
          "name": "stdout"
        }
      ]
    },
    {
      "cell_type": "markdown",
      "metadata": {
        "id": "pn-7mxp5B6ya"
      },
      "source": [
        "## TF - Aula 5"
      ]
    },
    {
      "cell_type": "markdown",
      "metadata": {
        "id": "8vmVUnJ9LqLB"
      },
      "source": [
        "### TF 1"
      ]
    },
    {
      "cell_type": "code",
      "metadata": {
        "id": "Fvb-UGcj8_B1",
        "outputId": "5efd03fa-0daa-43b9-b1fc-2767401b3440",
        "colab": {
          "base_uri": "https://localhost:8080/",
          "height": 214
        }
      },
      "source": [
        "## Geladeira R$ 1868,00\n",
        "## Prestação 12x\n",
        "## Juros 1,2%\n",
        "## Com entrada (True)\n",
        "tf_1 = getPrice(1.2, 12, 1868, True)\n",
        "print(f'Resp TF: R$ {tf_1:.2f}')"
      ],
      "execution_count": null,
      "outputs": [
        {
          "output_type": "error",
          "ename": "NameError",
          "evalue": "ignored",
          "traceback": [
            "\u001b[0;31m---------------------------------------------------------------------------\u001b[0m",
            "\u001b[0;31mNameError\u001b[0m                                 Traceback (most recent call last)",
            "\u001b[0;32m<ipython-input-1-06c589d56521>\u001b[0m in \u001b[0;36m<module>\u001b[0;34m()\u001b[0m\n\u001b[1;32m      3\u001b[0m \u001b[0;31m## Juros 1,2%\u001b[0m\u001b[0;34m\u001b[0m\u001b[0;34m\u001b[0m\u001b[0;34m\u001b[0m\u001b[0m\n\u001b[1;32m      4\u001b[0m \u001b[0;31m## Com entrada (True)\u001b[0m\u001b[0;34m\u001b[0m\u001b[0;34m\u001b[0m\u001b[0;34m\u001b[0m\u001b[0m\n\u001b[0;32m----> 5\u001b[0;31m \u001b[0mtf_1\u001b[0m \u001b[0;34m=\u001b[0m \u001b[0mgetPrice\u001b[0m\u001b[0;34m(\u001b[0m\u001b[0;36m1.2\u001b[0m\u001b[0;34m,\u001b[0m \u001b[0;36m12\u001b[0m\u001b[0;34m,\u001b[0m \u001b[0;36m1868\u001b[0m\u001b[0;34m,\u001b[0m \u001b[0;32mTrue\u001b[0m\u001b[0;34m)\u001b[0m\u001b[0;34m\u001b[0m\u001b[0;34m\u001b[0m\u001b[0m\n\u001b[0m\u001b[1;32m      6\u001b[0m \u001b[0mprint\u001b[0m\u001b[0;34m(\u001b[0m\u001b[0;34mf'Resp TF: R$ {tf_1:.2f}'\u001b[0m\u001b[0;34m)\u001b[0m\u001b[0;34m\u001b[0m\u001b[0;34m\u001b[0m\u001b[0m\n",
            "\u001b[0;31mNameError\u001b[0m: name 'getPrice' is not defined"
          ]
        }
      ]
    },
    {
      "cell_type": "markdown",
      "metadata": {
        "id": "yhBnXx8cLuE6"
      },
      "source": [
        "### TF 2"
      ]
    },
    {
      "cell_type": "code",
      "metadata": {
        "id": "9ygivcBE-hek",
        "outputId": "cf64916c-a192-42fe-89d6-406e6c750f8f",
        "colab": {
          "base_uri": "https://localhost:8080/",
          "height": 34
        }
      },
      "source": [
        "# TF 2\n",
        "## Mensal = x\n",
        "## 24 meses\n",
        "## Valor 8232,00\n",
        "## juros = 0.4\n",
        "tf_2 = getPriceFuture(0.4, 24, 8232) \n",
        "print(f'Resp TF: R$ {tf_2:.2f}')\n",
        "\n",
        "# tf_2 = getPriceFuture(0.4, 24, 327.48, True) \n",
        "# print(f'Resp TF: R$ {tf_2:.2f}')"
      ],
      "execution_count": null,
      "outputs": [
        {
          "output_type": "stream",
          "text": [
            "Resp TF: R$ 327.48\n"
          ],
          "name": "stdout"
        }
      ]
    },
    {
      "cell_type": "markdown",
      "metadata": {
        "id": "XyQuK7LyLwL7"
      },
      "source": [
        "### TF 3"
      ]
    },
    {
      "cell_type": "code",
      "metadata": {
        "id": "gOV-P28EHZ9F",
        "outputId": "194d3b9d-3bcb-4c43-f309-7722bdb6f425",
        "colab": {
          "base_uri": "https://localhost:8080/",
          "height": 34
        }
      },
      "source": [
        "# TF 3 \n",
        "## Valor 58.703,00\n",
        "## Parc. 48\n",
        "## Juros 1% a.m.\n",
        "\n",
        "tf_3 = getPrice(1, 48, 58703)\n",
        "print(f'Resp TF: R$ {tf_3:.2f}')"
      ],
      "execution_count": null,
      "outputs": [
        {
          "output_type": "stream",
          "text": [
            "Resp TF: R$ 1545.88\n"
          ],
          "name": "stdout"
        }
      ]
    },
    {
      "cell_type": "markdown",
      "metadata": {
        "id": "dj4wgDzlL4Vy"
      },
      "source": [
        "### TF 4"
      ]
    },
    {
      "cell_type": "code",
      "metadata": {
        "id": "CfhQ97w1H6yD",
        "outputId": "793da498-6205-41bb-903a-35f2edc59dba",
        "colab": {
          "base_uri": "https://localhost:8080/",
          "height": 84
        }
      },
      "source": [
        "# TF 4 \n",
        "## Valor 59.122,00\n",
        "## Parc. 60\n",
        "## Juros 14% a.a.\n",
        "\n",
        "juros_mensal = getMinorTax(14, 60)\n",
        "print(f'Juros mensais: {juros_mensal:.2f} % a.m.')\n",
        "print('\\n')\n",
        "\n",
        "tf_4 = getPrice(juros_mensal, 60, 59122)\n",
        "print(f'Resp TF: R$ {tf_4:.2f}')"
      ],
      "execution_count": null,
      "outputs": [
        {
          "output_type": "stream",
          "text": [
            "Juros mensais: 0.22 % a.m.\n",
            "\n",
            "\n",
            "Resp TF: R$ 1052.48\n"
          ],
          "name": "stdout"
        }
      ]
    },
    {
      "cell_type": "markdown",
      "metadata": {
        "id": "BU6TeWbSMBNJ"
      },
      "source": [
        "### TF 5"
      ]
    },
    {
      "cell_type": "code",
      "metadata": {
        "id": "g-tfUBOuMDO9",
        "outputId": "5b643671-e1fb-4e81-b8a9-c29c55783709",
        "colab": {
          "base_uri": "https://localhost:8080/",
          "height": 34
        }
      },
      "source": [
        "# Mensal 93,00\n",
        "# 12meses\n",
        "# 0,5 % a.m.\n",
        "\n",
        "tf_5 = getPriceFuture(0.5, 12, 93, True)\n",
        "print(f'Resp TF: R$ {tf_5:.2f}')"
      ],
      "execution_count": null,
      "outputs": [
        {
          "output_type": "stream",
          "text": [
            "Resp TF: R$ 1147.21\n"
          ],
          "name": "stdout"
        }
      ]
    },
    {
      "cell_type": "code",
      "metadata": {
        "id": "XtFRhN8sMb0s"
      },
      "source": [
        ""
      ],
      "execution_count": null,
      "outputs": []
    },
    {
      "cell_type": "markdown",
      "metadata": {
        "id": "TUc-1zYpuNGO"
      },
      "source": [
        "# Valor Present Liquido"
      ]
    },
    {
      "cell_type": "code",
      "metadata": {
        "id": "Fdyb958auuEx"
      },
      "source": [
        "import numpy as np\n",
        "\n",
        "def getVplValues(values, i):\n",
        "  vpl = []\n",
        "  for index in range(len(values)):\n",
        "    vpl.append(values[index]/pow(i, index+1))\n",
        "\n",
        "  return np.array(vpl)\n",
        "\n",
        "def getVplValuesSum(values, fc):\n",
        "  return np.sum(values) - fc"
      ],
      "execution_count": 2,
      "outputs": []
    },
    {
      "cell_type": "markdown",
      "metadata": {
        "id": "rj8D74LH2ipI"
      },
      "source": [
        "## Exemplo Aula"
      ]
    },
    {
      "cell_type": "markdown",
      "metadata": {
        "id": "E5uVmIW-2lMS"
      },
      "source": [
        "### Ex 1"
      ]
    },
    {
      "cell_type": "code",
      "metadata": {
        "id": "L-SaOO_6v__w",
        "outputId": "73f28dd9-c4e3-4ba5-f62a-3b4fcdbc7359",
        "colab": {
          "base_uri": "https://localhost:8080/"
        }
      },
      "source": [
        "values = [250*1000, 320*1000, 380*1000, 280*1000]\n",
        "vpl = getVplValues(values, 1.2)\n",
        "\n",
        "vpl_sum = getVplValuesSum(vpl, 750*1000)\n",
        "print(f'{vpl_sum:.2f}')"
      ],
      "execution_count": null,
      "outputs": [
        {
          "output_type": "stream",
          "text": [
            "[208333.33333333 222222.22222222 219907.40740741 135030.86419753]\n",
            "35493.83\n"
          ],
          "name": "stdout"
        }
      ]
    },
    {
      "cell_type": "markdown",
      "metadata": {
        "id": "TwGwer3u6eyv"
      },
      "source": [
        "### EX 2"
      ]
    },
    {
      "cell_type": "code",
      "metadata": {
        "id": "qWev34RJ1Vl8",
        "outputId": "60d4897a-d023-48ef-dd3f-f7687308c586",
        "colab": {
          "base_uri": "https://localhost:8080/"
        }
      },
      "source": [
        "values = [45, 35, 50, 35, 30]\n",
        "values_k = [i*1000 for i in values]\n",
        "i = 1.3\n",
        "vpl = getVplValues(values_k, i)\n",
        "vpl_sum = getVplValuesSum(vpl, 125*1000)\n",
        "print(f'{vpl_sum:.2f}')"
      ],
      "execution_count": null,
      "outputs": [
        {
          "output_type": "stream",
          "text": [
            "-26581.90\n"
          ],
          "name": "stdout"
        }
      ]
    },
    {
      "cell_type": "markdown",
      "metadata": {
        "id": "wMs2Ocef9swt"
      },
      "source": [
        "### Ex 3"
      ]
    },
    {
      "cell_type": "code",
      "metadata": {
        "id": "-vx746oS7Hr7",
        "outputId": "854a60d8-871e-4c50-e4ee-35ee810df379",
        "colab": {
          "base_uri": "https://localhost:8080/"
        }
      },
      "source": [
        "values = [70, 70, 55, 55, 55+75]\n",
        "values_k = [i*1000 for i in values]\n",
        "i = 1.1\n",
        "vpl = getVplValues(values_k, i)\n",
        "vpl_sum = getVplValuesSum(vpl, 250*1000)\n",
        "print(f'{vpl_sum:.2f}')"
      ],
      "execution_count": null,
      "outputs": [
        {
          "output_type": "stream",
          "text": [
            "31095.43\n"
          ],
          "name": "stdout"
        }
      ]
    },
    {
      "cell_type": "markdown",
      "metadata": {
        "id": "KDbIDOvfAfWA"
      },
      "source": [
        "### Ex 4"
      ]
    },
    {
      "cell_type": "code",
      "metadata": {
        "id": "99x3ASjO-GvG",
        "outputId": "6eae1e88-289d-47c7-e605-9e1934f3bf53",
        "colab": {
          "base_uri": "https://localhost:8080/"
        }
      },
      "source": [
        "values = [55, 55, 35, 35, 35, 35, 20, 20, 20, 20]\n",
        "values_k = [i*1000 for i in values]\n",
        "i = 1.08\n",
        "vpl = getVplValues(values_k, i)\n",
        "vpl_sum = getVplValuesSum(vpl, 500*1000)\n",
        "print(f'{-vpl_sum:.2f}')"
      ],
      "execution_count": null,
      "outputs": [
        {
          "output_type": "stream",
          "text": [
            "260789.88\n"
          ],
          "name": "stdout"
        }
      ]
    },
    {
      "cell_type": "markdown",
      "metadata": {
        "id": "Jd5nQ1jdFWR-"
      },
      "source": [
        "### EX 5"
      ]
    },
    {
      "cell_type": "code",
      "metadata": {
        "id": "Cim0KeATBz_j",
        "outputId": "868f4331-3d3d-42cc-f7b3-326e1e32c4fb",
        "colab": {
          "base_uri": "https://localhost:8080/"
        }
      },
      "source": [
        "values = [300, 300, 300, 300, 300, -200, 350, 350, 350, 350]\n",
        "values_k = [i*1000 for i in values]\n",
        "values_k[-1] = values_k[-1] + 1500000\n",
        "i = 1.1\n",
        "vpl = getVplValues(values_k, i)\n",
        "vpl_sum = getVplValuesSum(vpl, 3*1000000)\n",
        "print(f'{vpl_sum:.2f}')"
      ],
      "execution_count": null,
      "outputs": [
        {
          "output_type": "stream",
          "text": [
            "-771086.58\n"
          ],
          "name": "stdout"
        }
      ]
    },
    {
      "cell_type": "markdown",
      "metadata": {
        "id": "d0cdAuFIr2__"
      },
      "source": [
        "## TF"
      ]
    },
    {
      "cell_type": "code",
      "metadata": {
        "id": "VKmokE9TGHPr",
        "outputId": "32a942fd-8deb-479d-bd5d-27e922bc945e",
        "colab": {
          "base_uri": "https://localhost:8080/"
        }
      },
      "source": [
        "values = [62769, 62769, 55000, 55000, 55000]\n",
        "values[-1] = values[-1] + 75000\n",
        "i = 1.05\n",
        "fc = 250000\n",
        "vpl = getVplValues(values, i)\n",
        "vpl_sum = getVplValuesSum(vpl, fc)\n",
        "print(f'{vpl_sum:.2f}')"
      ],
      "execution_count": 3,
      "outputs": [
        {
          "output_type": "stream",
          "text": [
            "61331.44\n"
          ],
          "name": "stdout"
        }
      ]
    },
    {
      "cell_type": "code",
      "metadata": {
        "id": "hIQnAbQTshCk",
        "outputId": "4ffa803c-84c6-4684-eb05-7e5aa9904552",
        "colab": {
          "base_uri": "https://localhost:8080/"
        }
      },
      "source": [
        "fc = 40\n",
        "values = [30, 30, 30, -19]\n",
        "i = 1.07\n",
        "vpl = getVplValues(values, i)\n",
        "vpl_sum = getVplValuesSum(vpl, fc)\n",
        "print(f'{vpl_sum:.2f}')"
      ],
      "execution_count": 4,
      "outputs": [
        {
          "output_type": "stream",
          "text": [
            "24.23\n"
          ],
          "name": "stdout"
        }
      ]
    },
    {
      "cell_type": "code",
      "metadata": {
        "id": "uzZ6sJrwtDSo",
        "outputId": "63a467bf-2ebf-4b52-9527-0ce493d9a4dc",
        "colab": {
          "base_uri": "https://localhost:8080/"
        }
      },
      "source": [
        "fc = 360\n",
        "i = 1.1\n",
        "values = [50, 50, 80, 80, 80, 200, 200]\n",
        "values_k = [i*1000 for i in values]\n",
        "vpl = getVplValues(values_k, i)\n",
        "vpl_sum = getVplValuesSum(vpl, fc)\n",
        "print(f'{vpl_sum:.2f}')\n"
      ],
      "execution_count": 5,
      "outputs": [
        {
          "output_type": "stream",
          "text": [
            "466363.24\n"
          ],
          "name": "stdout"
        }
      ]
    },
    {
      "cell_type": "code",
      "metadata": {
        "id": "Yt4b4l95uM2a"
      },
      "source": [
        ""
      ],
      "execution_count": null,
      "outputs": []
    }
  ]
}