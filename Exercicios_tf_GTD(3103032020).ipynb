{
  "nbformat": 4,
  "nbformat_minor": 0,
  "metadata": {
    "colab": {
      "name": "Exercicios_tf_GTD.ipynb",
      "provenance": []
    },
    "kernelspec": {
      "name": "python3",
      "display_name": "Python 3"
    }
  },
  "cells": [
    {
      "cell_type": "markdown",
      "metadata": {
        "id": "HxSFURz_yXgi",
        "colab_type": "text"
      },
      "source": [
        "# Impedância caracteristica"
      ]
    },
    {
      "cell_type": "code",
      "metadata": {
        "id": "6WhsfP_IpVXm",
        "colab_type": "code",
        "colab": {}
      },
      "source": [
        "import cmath\n",
        "import math"
      ],
      "execution_count": 0,
      "outputs": []
    },
    {
      "cell_type": "code",
      "metadata": {
        "id": "ygBqsNvApkGL",
        "colab_type": "code",
        "colab": {}
      },
      "source": [
        "def resolve(r, l, c, g, comp, f):\n",
        "  PI = 3.14\n",
        "  first = complex( r * comp, 2 * PI * f * l * comp )\n",
        "  second = complex( g * comp, 2 * PI * f * c  * comp )\n",
        "  result = cmath.sqrt( first // second )\n",
        "  return result"
      ],
      "execution_count": 0,
      "outputs": []
    },
    {
      "cell_type": "code",
      "metadata": {
        "id": "LyjaB5Yootx0",
        "colab_type": "code",
        "colab": {
          "base_uri": "https://localhost:8080/",
          "height": 134
        },
        "outputId": "36c8b1e8-f336-428e-bc4e-80c436c00243"
      },
      "source": [
        "R = 0.025\n",
        "L = 0.854 * pow(10,-3) # mili\n",
        "C = 13.65 * pow(10, -9) # nano\n",
        "G = 0.0375 * pow(10, -6) # micro\n",
        "freq = 60\n",
        "comp = 294.84\n",
        "V = 500\n",
        "\n",
        "print(f'Resistance: {R}')\n",
        "print(f'Impedance: {L}')\n",
        "print(f'Capacitance: {C}')\n",
        "print(f'Conductance: {G}')\n",
        "print(f'Frequency: {freq}')\n",
        "print(f'Length: {comp}')\n",
        "print(f'Voltage: {V}')"
      ],
      "execution_count": 13,
      "outputs": [
        {
          "output_type": "stream",
          "text": [
            "Resistance: 0.025\n",
            "Impedance: 0.000854\n",
            "Capacitance: 1.3650000000000001e-08\n",
            "Conductance: 3.75e-08\n",
            "Frequency: 60\n",
            "Length: 294.84\n",
            "Voltage: 500\n"
          ],
          "name": "stdout"
        }
      ]
    },
    {
      "cell_type": "code",
      "metadata": {
        "id": "K4lfDH-2sPO5",
        "colab_type": "code",
        "colab": {
          "base_uri": "https://localhost:8080/",
          "height": 34
        },
        "outputId": "d76beae4-228f-4a4e-a541-53ca396881be"
      },
      "source": [
        "result = resolve(R, L, C, G, comp, freq)\n",
        "print(f'Result is: {result}')"
      ],
      "execution_count": 21,
      "outputs": [
        {
          "output_type": "stream",
          "text": [
            "Result is: (250.346939680922-8.796360766974194j)\n"
          ],
          "name": "stdout"
        }
      ]
    },
    {
      "cell_type": "markdown",
      "metadata": {
        "id": "bZn3aaFI2_m7",
        "colab_type": "text"
      },
      "source": [
        "# Tensão de transmissão"
      ]
    },
    {
      "cell_type": "code",
      "metadata": {
        "id": "ACJorG573Vgk",
        "colab_type": "code",
        "colab": {}
      },
      "source": [
        "Vg = 17 * pow(10, 3) # kV/fase\n",
        "defasado = 120 # graus\n",
        "freq = 60\n",
        "reti_pulso = 6\n",
        "ang_tiristor = 1.12 # rad -> alpha"
      ],
      "execution_count": 0,
      "outputs": []
    },
    {
      "cell_type": "code",
      "metadata": {
        "id": "DrjdAZlQ3ink",
        "colab_type": "code",
        "colab": {}
      },
      "source": [
        "def tensaoTransmissao(vg, alpha):\n",
        "  return (2.34 * vg * (1 + math.cos( ( math.pi/3 ) + alpha) ) )"
      ],
      "execution_count": 0,
      "outputs": []
    },
    {
      "cell_type": "code",
      "metadata": {
        "id": "e9oA5m1B5wzN",
        "colab_type": "code",
        "colab": {
          "base_uri": "https://localhost:8080/",
          "height": 34
        },
        "outputId": "654d49e8-b741-4f74-fcc3-666e15134461"
      },
      "source": [
        "result = tensaoTransmissao(Vg, ang_tiristor)\n",
        "print(f'Result is: {result}')"
      ],
      "execution_count": 49,
      "outputs": [
        {
          "output_type": "stream",
          "text": [
            "Result is: 17436.82206789957\n"
          ],
          "name": "stdout"
        }
      ]
    },
    {
      "cell_type": "markdown",
      "metadata": {
        "id": "9xKYjyZg8Ca4",
        "colab_type": "text"
      },
      "source": [
        "# Tensão Critíca Disruptiva"
      ]
    },
    {
      "cell_type": "code",
      "metadata": {
        "id": "qc6oKk1m8G-8",
        "colab_type": "code",
        "colab": {}
      },
      "source": [
        "raio = 2 # cm\n",
        "dist_simetrica = 38 # cm"
      ],
      "execution_count": 0,
      "outputs": []
    },
    {
      "cell_type": "code",
      "metadata": {
        "id": "eZlGbDLY8VN6",
        "colab_type": "code",
        "colab": {}
      },
      "source": [
        "def tensaoCritica(r, d):\n",
        "  return ( 21.2 * r * math.log( d / r ) )"
      ],
      "execution_count": 0,
      "outputs": []
    },
    {
      "cell_type": "code",
      "metadata": {
        "id": "X3IBN4Fo8-Sk",
        "colab_type": "code",
        "colab": {
          "base_uri": "https://localhost:8080/",
          "height": 34
        },
        "outputId": "90c26a15-e511-4f03-dce5-d187dbf7c15a"
      },
      "source": [
        "result = tensaoCritica(raio, dist_simetrica)\n",
        "print(f'Result is: {result}')"
      ],
      "execution_count": 52,
      "outputs": [
        {
          "output_type": "stream",
          "text": [
            "Result is: 124.84421271665707\n"
          ],
          "name": "stdout"
        }
      ]
    },
    {
      "cell_type": "markdown",
      "metadata": {
        "id": "gwA9Nrdc9i-a",
        "colab_type": "text"
      },
      "source": [
        "# Impedância Linha de Transmissão"
      ]
    },
    {
      "cell_type": "code",
      "metadata": {
        "id": "Txq75x0-9m4H",
        "colab_type": "code",
        "colab": {}
      },
      "source": [
        "imp_cabo = 0.225\n",
        "comp = 314"
      ],
      "execution_count": 0,
      "outputs": []
    },
    {
      "cell_type": "code",
      "metadata": {
        "id": "lRSDsXkb9u7H",
        "colab_type": "code",
        "colab": {}
      },
      "source": [
        "def impLinha(cabo, comp):\n",
        "  return (cabo * comp)"
      ],
      "execution_count": 0,
      "outputs": []
    },
    {
      "cell_type": "code",
      "metadata": {
        "id": "vLf232RK909G",
        "colab_type": "code",
        "colab": {
          "base_uri": "https://localhost:8080/",
          "height": 34
        },
        "outputId": "f63020e8-4034-4e1e-b129-35b212aa911c"
      },
      "source": [
        "result = impLinha(imp_cabo, comp)\n",
        "print(f'Result is: {result}')"
      ],
      "execution_count": 57,
      "outputs": [
        {
          "output_type": "stream",
          "text": [
            "Result is: 70.65\n"
          ],
          "name": "stdout"
        }
      ]
    },
    {
      "cell_type": "code",
      "metadata": {
        "id": "f96z2hHM97om",
        "colab_type": "code",
        "colab": {}
      },
      "source": [
        ""
      ],
      "execution_count": 0,
      "outputs": []
    }
  ]
}