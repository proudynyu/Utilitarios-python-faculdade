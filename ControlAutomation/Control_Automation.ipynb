{
  "nbformat": 4,
  "nbformat_minor": 0,
  "metadata": {
    "colab": {
      "name": "Control_Automation.ipynb",
      "provenance": [],
      "collapsed_sections": []
    },
    "kernelspec": {
      "name": "python3",
      "display_name": "Python 3"
    }
  },
  "cells": [
    {
      "cell_type": "markdown",
      "metadata": {
        "id": "1i8iov0QQ5mp",
        "colab_type": "text"
      },
      "source": [
        "# Método de Ziegler-Nichols"
      ]
    },
    {
      "cell_type": "markdown",
      "metadata": {
        "id": "U2IU-AFCUGpy",
        "colab_type": "text"
      },
      "source": [
        "## Validate td/tp"
      ]
    },
    {
      "cell_type": "code",
      "metadata": {
        "id": "pNUW_VBhULAi",
        "colab_type": "code",
        "colab": {}
      },
      "source": [
        "def getValidate(td, tp):\n",
        "  result = td/tp\n",
        "  if result > 0.1 and result < 1:\n",
        "    return \"Is valid\"\n",
        "  return \"Not valid\""
      ],
      "execution_count": 0,
      "outputs": []
    },
    {
      "cell_type": "code",
      "metadata": {
        "id": "cgKV_EXEUi9f",
        "colab_type": "code",
        "colab": {}
      },
      "source": [
        "# Insert values\n",
        "td = 1\n",
        "tp = 1"
      ],
      "execution_count": 0,
      "outputs": []
    },
    {
      "cell_type": "code",
      "metadata": {
        "id": "Pe9PE0NiUplA",
        "colab_type": "code",
        "colab": {
          "base_uri": "https://localhost:8080/",
          "height": 34
        },
        "outputId": "0d370d36-ed16-4ed0-ccb2-192c2b7cecb4"
      },
      "source": [
        "# Result\n",
        "validate = getValidate(td, tp)\n",
        "print(validate)"
      ],
      "execution_count": 31,
      "outputs": [
        {
          "output_type": "stream",
          "text": [
            "Not valid\n"
          ],
          "name": "stdout"
        }
      ]
    },
    {
      "cell_type": "markdown",
      "metadata": {
        "id": "sPNjLB1XRCNM",
        "colab_type": "text"
      },
      "source": [
        "## Tipo P"
      ]
    },
    {
      "cell_type": "code",
      "metadata": {
        "id": "AmrevZo880-n",
        "colab_type": "code",
        "colab": {}
      },
      "source": [
        "# KC\n",
        "\n",
        "def p_kc(tp, td, kp):\n",
        "  return (tp / (td * kp))\n",
        "\n",
        "# ti = infinity\n",
        "# t0 = \"No exist\""
      ],
      "execution_count": 0,
      "outputs": []
    },
    {
      "cell_type": "code",
      "metadata": {
        "id": "A5KOEck0RJSU",
        "colab_type": "code",
        "colab": {}
      },
      "source": [
        "# Insert values here \n",
        "p_tp = 1\n",
        "p_td = 1\n",
        "p_kp = 1"
      ],
      "execution_count": 0,
      "outputs": []
    },
    {
      "cell_type": "code",
      "metadata": {
        "id": "OAN3omG1RmlN",
        "colab_type": "code",
        "colab": {
          "base_uri": "https://localhost:8080/",
          "height": 34
        },
        "outputId": "cdd3cebd-9cd7-4756-bef2-390a7c4bcaac"
      },
      "source": [
        "# Result\n",
        "KC_P = p_kc(p_tp, p_td, p_kp)\n",
        "print(f'Kc is: {KC_P}')"
      ],
      "execution_count": 34,
      "outputs": [
        {
          "output_type": "stream",
          "text": [
            "Kc is: 1.0\n"
          ],
          "name": "stdout"
        }
      ]
    },
    {
      "cell_type": "markdown",
      "metadata": {
        "id": "dsrC88K7SQ8I",
        "colab_type": "text"
      },
      "source": [
        "## Tipo PI"
      ]
    },
    {
      "cell_type": "code",
      "metadata": {
        "id": "UtU_UXL6STBV",
        "colab_type": "code",
        "colab": {}
      },
      "source": [
        "# KC\n",
        "def pi_kc(tp, td, kp):\n",
        "  return ((0.9 * tp) / (td * kp))\n",
        "\n",
        "# ti\n",
        "def pi_ti(td):\n",
        "  return 3.33*td\n",
        "\n",
        "# td = \"No exist\""
      ],
      "execution_count": 0,
      "outputs": []
    },
    {
      "cell_type": "code",
      "metadata": {
        "id": "J-JRzMxOSuYY",
        "colab_type": "code",
        "colab": {}
      },
      "source": [
        "# Insert values\n",
        "pi_tp = 1\n",
        "pi_td = 1\n",
        "pi_kp = 1"
      ],
      "execution_count": 0,
      "outputs": []
    },
    {
      "cell_type": "code",
      "metadata": {
        "id": "3xiiZ7UYS1PJ",
        "colab_type": "code",
        "colab": {
          "base_uri": "https://localhost:8080/",
          "height": 51
        },
        "outputId": "0efe652a-d551-4c3c-b6fa-95deb251af16"
      },
      "source": [
        "# Result\n",
        "KC_PI = pi_kc(pi_tp, pi_td, pi_kp)\n",
        "TI_PI = pi_ti(pi_td)\n",
        "\n",
        "print(f'Kc is: {KC_PI}')\n",
        "print(f'ti is: {TI_PI}')"
      ],
      "execution_count": 37,
      "outputs": [
        {
          "output_type": "stream",
          "text": [
            "Kc is: 0.9\n",
            "ti is: 3.33\n"
          ],
          "name": "stdout"
        }
      ]
    },
    {
      "cell_type": "markdown",
      "metadata": {
        "id": "nFPFzxdPTMY1",
        "colab_type": "text"
      },
      "source": [
        "## Tipo PID"
      ]
    },
    {
      "cell_type": "code",
      "metadata": {
        "id": "ErLSX0BqTI5D",
        "colab_type": "code",
        "colab": {}
      },
      "source": [
        "# KC\n",
        "def pid_kc(td, tp, kp):\n",
        "  return ((1.2 * tp) / (td * kp))\n",
        "\n",
        "# ti\n",
        "def pid_ti(td):\n",
        "  return (2*td)\n",
        "\n",
        "# td\n",
        "def pid_td(td):\n",
        "  return float(td/2)"
      ],
      "execution_count": 0,
      "outputs": []
    },
    {
      "cell_type": "code",
      "metadata": {
        "id": "IZLxgTImTjrn",
        "colab_type": "code",
        "colab": {}
      },
      "source": [
        "# Insert values\n",
        "PID_TD = 1\n",
        "PID_TP = 1\n",
        "PID_KP = 1"
      ],
      "execution_count": 0,
      "outputs": []
    },
    {
      "cell_type": "code",
      "metadata": {
        "id": "YUYe8HjBTnk1",
        "colab_type": "code",
        "colab": {
          "base_uri": "https://localhost:8080/",
          "height": 68
        },
        "outputId": "5381ddf7-27e1-4cb8-ad5d-15daa3377215"
      },
      "source": [
        "# Result\n",
        "KC_PID = pid_kc(PID_TD, PID_KP, PID_KP)\n",
        "TI_PID = pid_ti(PID_TD)\n",
        "TD_PID = pid_td(PID_TD)\n",
        "\n",
        "print(f'Kc is: {KC_PID}')\n",
        "print(f'ti is: {TI_PID}')\n",
        "print(f'td is: {TD_PID}')\n"
      ],
      "execution_count": 53,
      "outputs": [
        {
          "output_type": "stream",
          "text": [
            "Kc is: 1.2\n",
            "ti is: 2\n",
            "td is: 0.5\n"
          ],
          "name": "stdout"
        }
      ]
    },
    {
      "cell_type": "markdown",
      "metadata": {
        "id": "INzngDrZUCGy",
        "colab_type": "text"
      },
      "source": [
        "# ITAE Minimun Criteria (SERVO PROBLEM)"
      ]
    },
    {
      "cell_type": "markdown",
      "metadata": {
        "id": "KPpRfhkAT_33",
        "colab_type": "text"
      },
      "source": [
        "## Tipo PI"
      ]
    },
    {
      "cell_type": "code",
      "metadata": {
        "id": "wXgH0BtSVp0E",
        "colab_type": "code",
        "colab": {}
      },
      "source": [
        "# KC\n",
        "\n",
        "def itae_pi_kc(td, tp, kc):\n",
        "  return ((0.586 / kp) * (td/tp)**(-0.916))\n",
        "\n",
        "# ti\n",
        "\n",
        "def itae_pi_ti(td, tp):\n",
        "  return float(tp / (1.03 - 0.165*(td/tp)))\n",
        "\n",
        "# tp = \"No exist\""
      ],
      "execution_count": 0,
      "outputs": []
    },
    {
      "cell_type": "code",
      "metadata": {
        "id": "dDSCQc7mWR1K",
        "colab_type": "code",
        "colab": {}
      },
      "source": [
        "# Insert Values\n",
        "itae_pi_td = 1\n",
        "itae_pi_tp = 1\n",
        "itae_pi_kp = 1"
      ],
      "execution_count": 0,
      "outputs": []
    },
    {
      "cell_type": "code",
      "metadata": {
        "id": "iN8rzJQPWWMX",
        "colab_type": "code",
        "colab": {
          "base_uri": "https://localhost:8080/",
          "height": 51
        },
        "outputId": "438f3bc3-2bd7-43ed-b380-98dbfc3f5c45"
      },
      "source": [
        "# Result\n",
        "KC_ITAE = itae_pi_kc(itae_pi_td, itae_pi_tp, itae_pi_kp)\n",
        "TI_ITAE = itae_pi_ti(itae_pi_td, itae_pi_tp)\n",
        "\n",
        "print(f'Kc is: {KC_ITAE}')\n",
        "print(f'ti is: {TI_ITAE}')"
      ],
      "execution_count": 73,
      "outputs": [
        {
          "output_type": "stream",
          "text": [
            "Kc is: 0.586\n",
            "ti is: 1.1560693641618498\n"
          ],
          "name": "stdout"
        }
      ]
    },
    {
      "cell_type": "markdown",
      "metadata": {
        "id": "4FonZqZ3baNj",
        "colab_type": "text"
      },
      "source": [
        "## Tipo PID"
      ]
    },
    {
      "cell_type": "code",
      "metadata": {
        "id": "T2zCbiSwWkyl",
        "colab_type": "code",
        "colab": {}
      },
      "source": [
        "# KC\n",
        "def itae_pid_kc(td, tp, kp):\n",
        "  return (0.965/kp) * (td/tp)**(-0.855)\n",
        "\n",
        "# ti\n",
        "def itae_pid_ti(td, tp):\n",
        "  return ( tp / (0.796 - 0.1465*(td/tp)) )\n",
        "\n",
        "# td\n",
        "def itae_pid_td(td, tp):\n",
        "  return (0.308*tp) * (td/tp)**(0.929)"
      ],
      "execution_count": 0,
      "outputs": []
    },
    {
      "cell_type": "code",
      "metadata": {
        "id": "6gpRdrVCcP2r",
        "colab_type": "code",
        "colab": {}
      },
      "source": [
        "# Insert values\n",
        "ITAE_TD_PID = 1\n",
        "ITAE_TP_PID = 1\n",
        "ITAE_KP_PID = 1"
      ],
      "execution_count": 0,
      "outputs": []
    },
    {
      "cell_type": "code",
      "metadata": {
        "id": "rX80wL4bcd1U",
        "colab_type": "code",
        "colab": {
          "base_uri": "https://localhost:8080/",
          "height": 68
        },
        "outputId": "6d3a88e2-6fe3-4f15-defc-f74af76f481c"
      },
      "source": [
        "# Result\n",
        "KC_PID_ITAE = itae_pid_kc(ITAE_TD_PID, ITAE_TP_PID, ITAE_KP_PID)\n",
        "TI_PID_ITAE = itae_pid_ti(ITAE_TD_PID, ITAE_TP_PID)\n",
        "TD_PID_ITAE = itae_pid_td(ITAE_TD_PID, ITAE_TP_PID)\n",
        "\n",
        "print(f'Kc is: {KC_PID_ITAE}')\n",
        "print(f'ti is: {TI_PID_ITAE}')\n",
        "print(f'td is: {TD_PID_ITAE}')"
      ],
      "execution_count": 76,
      "outputs": [
        {
          "output_type": "stream",
          "text": [
            "Kc is: 0.965\n",
            "ti is: 1.5396458814472669\n",
            "td is: 0.308\n"
          ],
          "name": "stdout"
        }
      ]
    },
    {
      "cell_type": "markdown",
      "metadata": {
        "id": "J1YMDBqLdxNt",
        "colab_type": "text"
      },
      "source": [
        "# ITAE Minimun Criteria (REGULATORY PROBLEM)"
      ]
    },
    {
      "cell_type": "markdown",
      "metadata": {
        "id": "yj-_8fzmeYJk",
        "colab_type": "text"
      },
      "source": [
        "## Tipo PI"
      ]
    },
    {
      "cell_type": "code",
      "metadata": {
        "id": "x2FhlG5ddiim",
        "colab_type": "code",
        "colab": {}
      },
      "source": [
        "# Kc\n",
        "def reg_kc(td, tp, kp):\n",
        "  return (0.859 * kp) * (td/tp)**(-0.977)\n",
        "\n",
        "# ti\n",
        "def reg_ti(td, tp):\n",
        "  return (tp/0.674) * (td/tp)**0.68\n",
        "\n",
        "# td = \"No Exist\""
      ],
      "execution_count": 0,
      "outputs": []
    },
    {
      "cell_type": "code",
      "metadata": {
        "id": "70ukNJxYeVxW",
        "colab_type": "code",
        "colab": {}
      },
      "source": [
        "# Insert Values\n",
        "REG_TD = 1\n",
        "REG_TP = 1\n",
        "REG_KP = 1"
      ],
      "execution_count": 0,
      "outputs": []
    },
    {
      "cell_type": "code",
      "metadata": {
        "id": "GKoeSxs_ejNT",
        "colab_type": "code",
        "colab": {
          "base_uri": "https://localhost:8080/",
          "height": 51
        },
        "outputId": "34c0f2f9-b8b6-4208-d829-ea6b35f11bbb"
      },
      "source": [
        "# Result\n",
        "KC_REG = reg_kc(REG_TD, REG_TP, REG_KP)\n",
        "TI_REG = reg_ti(REG_TD, REG_TP)\n",
        "\n",
        "print(f'Kc is: {KC_REG}')\n",
        "print(f'ti is: {TI_REG}')"
      ],
      "execution_count": 81,
      "outputs": [
        {
          "output_type": "stream",
          "text": [
            "Kc is: 0.859\n",
            "ti is: 1.4836795252225519\n"
          ],
          "name": "stdout"
        }
      ]
    },
    {
      "cell_type": "markdown",
      "metadata": {
        "id": "bl5BqITee6YO",
        "colab_type": "text"
      },
      "source": [
        "## Tipo PID"
      ]
    },
    {
      "cell_type": "code",
      "metadata": {
        "id": "fdjXQWP0e3n7",
        "colab_type": "code",
        "colab": {}
      },
      "source": [
        "# Kc\n",
        "def reg_pid_kc(td, tp, kp):\n",
        "  return (1.357/kp) * (td/tp)**(-0.947)\n",
        "\n",
        "# ti\n",
        "def reg_pid_ti(td, ti):\n",
        "  return (tp/0.842) * (td/tp)**0.738\n",
        "\n",
        "# td\n",
        "def reg_pid_td(td, tp):\n",
        "  return (0.381*tp) * (td/tp)**0.995"
      ],
      "execution_count": 0,
      "outputs": []
    },
    {
      "cell_type": "code",
      "metadata": {
        "id": "VjJ25vjEfcHl",
        "colab_type": "code",
        "colab": {}
      },
      "source": [
        "# Insert values\n",
        "REG_PID_TD = 1\n",
        "REG_PID_TP = 1\n",
        "REG_PID_KP = 1"
      ],
      "execution_count": 0,
      "outputs": []
    },
    {
      "cell_type": "code",
      "metadata": {
        "id": "h-BFnsaEfh_v",
        "colab_type": "code",
        "colab": {
          "base_uri": "https://localhost:8080/",
          "height": 68
        },
        "outputId": "5ad6456b-8fbe-4821-f248-6d3b2be8143e"
      },
      "source": [
        "# Result\n",
        "KC_REG_PID = reg_pid_kc(REG_PID_TD, REG_PID_TP, REG_PID_KP)\n",
        "TD_REG_PID = reg_pid_td(REG_PID_TD, REG_PID_TP)\n",
        "TI_REG_PID = reg_pid_ti(REG_PID_TD, REG_PID_TP)\n",
        "\n",
        "print(f'Kc is: {KC_REG_PID}')\n",
        "print(f'ti is: {TI_REG_PID}')\n",
        "print(f'td is: {TD_REG_PID}')"
      ],
      "execution_count": 86,
      "outputs": [
        {
          "output_type": "stream",
          "text": [
            "Kc is: 1.357\n",
            "ti is: 1.187648456057007\n",
            "td is: 0.381\n"
          ],
          "name": "stdout"
        }
      ]
    },
    {
      "cell_type": "code",
      "metadata": {
        "id": "2cAa7Q2OgFPB",
        "colab_type": "code",
        "colab": {}
      },
      "source": [
        ""
      ],
      "execution_count": 0,
      "outputs": []
    }
  ]
}